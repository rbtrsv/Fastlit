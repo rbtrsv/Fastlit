{
 "cells": [
  {
   "cell_type": "markdown",
   "metadata": {},
   "source": [
    "# End-to-End AutoML for Insurance Cross-Sell\n",
    "\n",
    "## Part 1 - EDA and Data Pre-Processing\n",
    "\n",
    "\n",
    "### Contents\n",
    "[Part 1 - Project Overview](#overview)  \n",
    "[Part 2 - Initial Setup](#setup)  \n",
    "[Part 3 - Exploratory Data Analysis](#eda)  \n",
    "[Part 4 - Data Pre-Processing and Transformation](#pre-processing)  \n",
    "[Part 5 - References](#references) "
   ]
  },
  {
   "cell_type": "markdown",
   "metadata": {},
   "source": [
    "___\n",
    "<a name=\"overview\"></a>\n",
    "## (1) Project Overview\n",
    "\n",
    "**The Challenge**  \n",
    "- Insurance Cross-Sell Model: Predict which existing health insurance customers would be interested in purchasing vehicle insurance as well\n",
    "- This is a binary classification task\n",
    "\n",
    "Link: https://www.kaggle.com/anmolkumar/health-insurance-cross-sell-prediction\n",
    "___\n",
    "**The Data**  \n",
    "In this dataset, you are provided variables describing attributes of health insurance applicants. The task is to predict the \"Response\" variable for each Id in the test set \n",
    "___\n",
    "**id:**\tUnique ID for the customer  \n",
    "**Gender:**\tGender of the customer  \n",
    "**Age:** Age of the customer  \n",
    "**Driving_License:** 0 : Customer does not have DL, 1 : Customer already has DL  \n",
    "**Region_Code:** Unique code for the region of the customer  \n",
    "**Previously_Insured:**\t1 : Customer already has Vehicle Insurance, 0 : Customer doesn't have Vehicle Insurance  \n",
    "**Vehicle_Age:** Age of the Vehicle  \n",
    "**Vehicle_Damage:**\t1 : Customer got his/her vehicle damaged in the past. 0 : Customer didn't get his/her vehicle damaged in the past.  \n",
    "**Annual_Premium:**\tThe amount customer needs to pay as premium in the year  \n",
    "**PolicySalesChannel:**\tAnonymized Code for the channel of outreaching to the customer ie. Different Agents, Over Mail, Over Phone, In Person, etc.  \n",
    "**Vintage:** Number of Days that the customer has been associated with the company  \n",
    "**Response**: 1 : Customer is interested, 0 : Customer is not interested  "
   ]
  },
  {
   "cell_type": "markdown",
   "metadata": {},
   "source": [
    "___\n",
    "<a name=\"setup\"></a>\n",
    "## (2) Initial Setup"
   ]
  },
  {
   "cell_type": "markdown",
   "metadata": {},
   "source": [
    "### Import dependencies"
   ]
  },
  {
   "cell_type": "code",
   "execution_count": 1,
   "metadata": {},
   "outputs": [],
   "source": [
    "import numpy as np\n",
    "import pandas as pd\n",
    "import matplotlib.pyplot as plt\n",
    "import seaborn as sns\n",
    "%matplotlib inline\n",
    "\n",
    "from sklearn.preprocessing import StandardScaler, LabelEncoder, OrdinalEncoder, MinMaxScaler\n",
    "from sklearn.impute import SimpleImputer\n",
    "from sklearn.pipeline import Pipeline\n",
    "from sklearn import metrics\n",
    "\n",
    "import opendatasets as od\n",
    "import zipfile\n",
    "import os\n",
    "import shutil\n",
    "import pickle\n",
    "\n",
    "# pd.set_option('display.max_columns', None)\n",
    "# pd.set_option('display.max_rows', None)\n",
    "\n",
    "import warnings\n",
    "warnings.filterwarnings(\"ignore\")"
   ]
  },
  {
   "cell_type": "markdown",
   "metadata": {},
   "source": [
    "### Download Datasets\n",
    "To use the Kaggle API, sign up for a Kaggle account at https://www.kaggle.com. Then go to the 'Account' tab of your user profile (https://www.kaggle.com/<username>/account) and select 'Create API Token'. This will trigger the download of kaggle.json, a file containing your API credentials."
   ]
  },
  {
   "cell_type": "code",
   "execution_count": 2,
   "metadata": {
    "scrolled": true
   },
   "outputs": [
    {
     "name": "stdout",
     "output_type": "stream",
     "text": [
      "Please provide your Kaggle credentials to download this dataset. Learn more: http://bit.ly/kaggle-creds\n",
      "Your Kaggle username:Your Kaggle Key:Downloading health-insurance-cross-sell-prediction.zip to ./data/raw/health-insurance-cross-sell-prediction\n"
     ]
    },
    {
     "name": "stderr",
     "output_type": "stream",
     "text": [
      "100%|██████████| 6.47M/6.47M [00:00<00:00, 8.26MB/s]\n"
     ]
    },
    {
     "name": "stdout",
     "output_type": "stream",
     "text": [
      "\n"
     ]
    }
   ],
   "source": [
    "# Retrieve data directly from source (using Kaggle API credentials, found in kaggle.json)\n",
    "od.download(\"https://www.kaggle.com/anmolkumar/health-insurance-cross-sell-prediction\", './data/raw')"
   ]
  },
  {
   "cell_type": "code",
   "execution_count": 3,
   "metadata": {},
   "outputs": [
    {
     "data": {
      "text/plain": [
       "['test.csv', 'train.csv', 'sample_submission.csv']"
      ]
     },
     "execution_count": 3,
     "metadata": {},
     "output_type": "execute_result"
    }
   ],
   "source": [
    "# View files in the raw folder\n",
    "raw_path = './data/raw/health-insurance-cross-sell-prediction/'\n",
    "os.listdir(raw_path)"
   ]
  },
  {
   "cell_type": "code",
   "execution_count": null,
   "metadata": {},
   "outputs": [],
   "source": [
    "# Unzip and store the CSV files in another folder (input folder) [IF file is zip]\n",
    "# for filename in os.listdir(raw_path):\n",
    "#     with zipfile.ZipFile(raw_path+filename, 'r') as zip_ref:\n",
    "#         zip_ref.extractall('./data/input/')"
   ]
  },
  {
   "cell_type": "code",
   "execution_count": 5,
   "metadata": {},
   "outputs": [
    {
     "name": "stdout",
     "output_type": "stream",
     "text": [
      "test.csv\n",
      "train.csv\n",
      "sample_submission.csv\n"
     ]
    }
   ],
   "source": [
    "for filename in os.listdir(raw_path):\n",
    "    print(filename)"
   ]
  },
  {
   "cell_type": "code",
   "execution_count": 6,
   "metadata": {},
   "outputs": [],
   "source": [
    "# Move train and test flat files into input folder\n",
    "for filename in os.listdir(raw_path):\n",
    "    if 'test.csv' in filename or 'train.csv' in filename:\n",
    "        shutil.copy(raw_path+filename, './data/input/'+filename)"
   ]
  },
  {
   "cell_type": "markdown",
   "metadata": {},
   "source": [
    "### Import Data"
   ]
  },
  {
   "cell_type": "code",
   "execution_count": 7,
   "metadata": {},
   "outputs": [
    {
     "data": {
      "text/plain": [
       "114333"
      ]
     },
     "execution_count": 7,
     "metadata": {},
     "output_type": "execute_result"
    }
   ],
   "source": [
    "# Import input datasets\n",
    "main_df = pd.read_csv('data/input/train.csv')\n",
    "# test_df = pd.read_csv('data/input/test.csv')\n",
    "\n",
    "# Keep only random 1/3 sample of data (to optimize size for training)\n",
    "main_df = main_df.sample(frac=0.3, replace=False, random_state=42).reset_index(drop=True)\n",
    "\n",
    "len(main_df)"
   ]
  },
  {
   "attachments": {},
   "cell_type": "markdown",
   "metadata": {},
   "source": [
    "Note: We are not using the test.csv dataset because it does not have the target `Response` variable, and we will not be submitting our predictions to Kaggle\n"
   ]
  },
  {
   "cell_type": "markdown",
   "metadata": {},
   "source": [
    "### Setup helper functions"
   ]
  },
  {
   "cell_type": "code",
   "execution_count": 8,
   "metadata": {},
   "outputs": [],
   "source": [
    "# Display value counts and NaN counts\n",
    "def show_value_counts(df, column):\n",
    "    value_count_df = pd.DataFrame(df[column].value_counts().rename_axis(column).reset_index(name='counts'))\n",
    "    value_count_df['percentage'] = round(100 * (value_count_df['counts'] / len(df)),1)\n",
    "    return value_count_df\n",
    "\n",
    "def show_nan_counts(df):\n",
    "    nan_count_df = pd.DataFrame(df.isna().sum()).sort_values(by=0, ascending = False)\n",
    "    nan_count_df.columns = ['counts']\n",
    "    nan_count_df['percentage'] = round(100 * (nan_count_df['counts'] / len(df)),1)\n",
    "    return nan_count_df\n",
    "\n",
    "# Display correlation plot as heatmap\n",
    "def show_heatmap(data, figsize=(12,8), \n",
    "                 highest_only=False, \n",
    "                 thresold=0.7, # Look at only highly correlated pairs\n",
    "                 annot=False):\n",
    "    correlation_matrix = data.corr()\n",
    "    high_corr = correlation_matrix[np.abs(correlation_matrix )>= thresold]\n",
    "    plt.figure(figsize=figsize)\n",
    "\n",
    "    if highest_only:\n",
    "        sns.heatmap(high_corr, annot=annot, cmap=\"Greens\", \n",
    "                    linecolor='black', linewidths=0.1)\n",
    "    else:\n",
    "        sns.heatmap(correlation_matrix, annot=annot)"
   ]
  },
  {
   "cell_type": "markdown",
   "metadata": {},
   "source": [
    "___\n",
    "<a name=\"eda\"></a>\n",
    "## (3) Exploratory Data Analysis (EDA)"
   ]
  },
  {
   "cell_type": "code",
   "execution_count": 9,
   "metadata": {},
   "outputs": [
    {
     "data": {
      "text/plain": [
       "(114333, 12)"
      ]
     },
     "execution_count": 9,
     "metadata": {},
     "output_type": "execute_result"
    }
   ],
   "source": [
    "main_df.shape"
   ]
  },
  {
   "cell_type": "code",
   "execution_count": 10,
   "metadata": {},
   "outputs": [
    {
     "data": {
      "text/html": [
       "<div>\n",
       "<style scoped>\n",
       "    .dataframe tbody tr th:only-of-type {\n",
       "        vertical-align: middle;\n",
       "    }\n",
       "\n",
       "    .dataframe tbody tr th {\n",
       "        vertical-align: top;\n",
       "    }\n",
       "\n",
       "    .dataframe thead th {\n",
       "        text-align: right;\n",
       "    }\n",
       "</style>\n",
       "<table border=\"1\" class=\"dataframe\">\n",
       "  <thead>\n",
       "    <tr style=\"text-align: right;\">\n",
       "      <th></th>\n",
       "      <th>id</th>\n",
       "      <th>Gender</th>\n",
       "      <th>Age</th>\n",
       "      <th>Driving_License</th>\n",
       "      <th>Region_Code</th>\n",
       "      <th>Previously_Insured</th>\n",
       "      <th>Vehicle_Age</th>\n",
       "      <th>Vehicle_Damage</th>\n",
       "      <th>Annual_Premium</th>\n",
       "      <th>Policy_Sales_Channel</th>\n",
       "      <th>Vintage</th>\n",
       "      <th>Response</th>\n",
       "    </tr>\n",
       "  </thead>\n",
       "  <tbody>\n",
       "    <tr>\n",
       "      <th>65537</th>\n",
       "      <td>60779</td>\n",
       "      <td>Female</td>\n",
       "      <td>41</td>\n",
       "      <td>1</td>\n",
       "      <td>28.0</td>\n",
       "      <td>0</td>\n",
       "      <td>1-2 Year</td>\n",
       "      <td>Yes</td>\n",
       "      <td>28266.0</td>\n",
       "      <td>26.0</td>\n",
       "      <td>17</td>\n",
       "      <td>0</td>\n",
       "    </tr>\n",
       "    <tr>\n",
       "      <th>22586</th>\n",
       "      <td>270510</td>\n",
       "      <td>Male</td>\n",
       "      <td>43</td>\n",
       "      <td>1</td>\n",
       "      <td>47.0</td>\n",
       "      <td>0</td>\n",
       "      <td>1-2 Year</td>\n",
       "      <td>Yes</td>\n",
       "      <td>34771.0</td>\n",
       "      <td>124.0</td>\n",
       "      <td>69</td>\n",
       "      <td>0</td>\n",
       "    </tr>\n",
       "    <tr>\n",
       "      <th>18454</th>\n",
       "      <td>253439</td>\n",
       "      <td>Male</td>\n",
       "      <td>26</td>\n",
       "      <td>1</td>\n",
       "      <td>50.0</td>\n",
       "      <td>1</td>\n",
       "      <td>&lt; 1 Year</td>\n",
       "      <td>No</td>\n",
       "      <td>29444.0</td>\n",
       "      <td>152.0</td>\n",
       "      <td>139</td>\n",
       "      <td>0</td>\n",
       "    </tr>\n",
       "    <tr>\n",
       "      <th>80439</th>\n",
       "      <td>156162</td>\n",
       "      <td>Male</td>\n",
       "      <td>33</td>\n",
       "      <td>1</td>\n",
       "      <td>12.0</td>\n",
       "      <td>0</td>\n",
       "      <td>1-2 Year</td>\n",
       "      <td>Yes</td>\n",
       "      <td>2630.0</td>\n",
       "      <td>154.0</td>\n",
       "      <td>198</td>\n",
       "      <td>0</td>\n",
       "    </tr>\n",
       "    <tr>\n",
       "      <th>45833</th>\n",
       "      <td>34815</td>\n",
       "      <td>Female</td>\n",
       "      <td>21</td>\n",
       "      <td>1</td>\n",
       "      <td>50.0</td>\n",
       "      <td>1</td>\n",
       "      <td>&lt; 1 Year</td>\n",
       "      <td>No</td>\n",
       "      <td>30468.0</td>\n",
       "      <td>160.0</td>\n",
       "      <td>36</td>\n",
       "      <td>0</td>\n",
       "    </tr>\n",
       "    <tr>\n",
       "      <th>13701</th>\n",
       "      <td>350777</td>\n",
       "      <td>Male</td>\n",
       "      <td>33</td>\n",
       "      <td>1</td>\n",
       "      <td>30.0</td>\n",
       "      <td>1</td>\n",
       "      <td>&lt; 1 Year</td>\n",
       "      <td>No</td>\n",
       "      <td>28379.0</td>\n",
       "      <td>152.0</td>\n",
       "      <td>157</td>\n",
       "      <td>0</td>\n",
       "    </tr>\n",
       "    <tr>\n",
       "      <th>85794</th>\n",
       "      <td>305603</td>\n",
       "      <td>Male</td>\n",
       "      <td>21</td>\n",
       "      <td>1</td>\n",
       "      <td>27.0</td>\n",
       "      <td>0</td>\n",
       "      <td>&lt; 1 Year</td>\n",
       "      <td>Yes</td>\n",
       "      <td>30214.0</td>\n",
       "      <td>160.0</td>\n",
       "      <td>133</td>\n",
       "      <td>0</td>\n",
       "    </tr>\n",
       "    <tr>\n",
       "      <th>71852</th>\n",
       "      <td>231847</td>\n",
       "      <td>Male</td>\n",
       "      <td>27</td>\n",
       "      <td>1</td>\n",
       "      <td>38.0</td>\n",
       "      <td>0</td>\n",
       "      <td>1-2 Year</td>\n",
       "      <td>Yes</td>\n",
       "      <td>30012.0</td>\n",
       "      <td>124.0</td>\n",
       "      <td>263</td>\n",
       "      <td>1</td>\n",
       "    </tr>\n",
       "    <tr>\n",
       "      <th>104604</th>\n",
       "      <td>294656</td>\n",
       "      <td>Male</td>\n",
       "      <td>38</td>\n",
       "      <td>1</td>\n",
       "      <td>40.0</td>\n",
       "      <td>0</td>\n",
       "      <td>1-2 Year</td>\n",
       "      <td>Yes</td>\n",
       "      <td>47545.0</td>\n",
       "      <td>124.0</td>\n",
       "      <td>246</td>\n",
       "      <td>0</td>\n",
       "    </tr>\n",
       "    <tr>\n",
       "      <th>36878</th>\n",
       "      <td>79471</td>\n",
       "      <td>Male</td>\n",
       "      <td>23</td>\n",
       "      <td>1</td>\n",
       "      <td>45.0</td>\n",
       "      <td>0</td>\n",
       "      <td>&lt; 1 Year</td>\n",
       "      <td>No</td>\n",
       "      <td>2630.0</td>\n",
       "      <td>160.0</td>\n",
       "      <td>205</td>\n",
       "      <td>0</td>\n",
       "    </tr>\n",
       "  </tbody>\n",
       "</table>\n",
       "</div>"
      ],
      "text/plain": [
       "            id  Gender  Age  Driving_License  Region_Code  Previously_Insured  \\\n",
       "65537    60779  Female   41                1         28.0                   0   \n",
       "22586   270510    Male   43                1         47.0                   0   \n",
       "18454   253439    Male   26                1         50.0                   1   \n",
       "80439   156162    Male   33                1         12.0                   0   \n",
       "45833    34815  Female   21                1         50.0                   1   \n",
       "13701   350777    Male   33                1         30.0                   1   \n",
       "85794   305603    Male   21                1         27.0                   0   \n",
       "71852   231847    Male   27                1         38.0                   0   \n",
       "104604  294656    Male   38                1         40.0                   0   \n",
       "36878    79471    Male   23                1         45.0                   0   \n",
       "\n",
       "       Vehicle_Age Vehicle_Damage  Annual_Premium  Policy_Sales_Channel  \\\n",
       "65537     1-2 Year            Yes         28266.0                  26.0   \n",
       "22586     1-2 Year            Yes         34771.0                 124.0   \n",
       "18454     < 1 Year             No         29444.0                 152.0   \n",
       "80439     1-2 Year            Yes          2630.0                 154.0   \n",
       "45833     < 1 Year             No         30468.0                 160.0   \n",
       "13701     < 1 Year             No         28379.0                 152.0   \n",
       "85794     < 1 Year            Yes         30214.0                 160.0   \n",
       "71852     1-2 Year            Yes         30012.0                 124.0   \n",
       "104604    1-2 Year            Yes         47545.0                 124.0   \n",
       "36878     < 1 Year             No          2630.0                 160.0   \n",
       "\n",
       "        Vintage  Response  \n",
       "65537        17         0  \n",
       "22586        69         0  \n",
       "18454       139         0  \n",
       "80439       198         0  \n",
       "45833        36         0  \n",
       "13701       157         0  \n",
       "85794       133         0  \n",
       "71852       263         1  \n",
       "104604      246         0  \n",
       "36878       205         0  "
      ]
     },
     "execution_count": 10,
     "metadata": {},
     "output_type": "execute_result"
    }
   ],
   "source": [
    "main_df.sample(10)"
   ]
  },
  {
   "cell_type": "markdown",
   "metadata": {},
   "source": [
    "___\n",
    "### Response (target) variable"
   ]
  },
  {
   "cell_type": "code",
   "execution_count": 11,
   "metadata": {},
   "outputs": [
    {
     "data": {
      "text/html": [
       "<div>\n",
       "<style scoped>\n",
       "    .dataframe tbody tr th:only-of-type {\n",
       "        vertical-align: middle;\n",
       "    }\n",
       "\n",
       "    .dataframe tbody tr th {\n",
       "        vertical-align: top;\n",
       "    }\n",
       "\n",
       "    .dataframe thead th {\n",
       "        text-align: right;\n",
       "    }\n",
       "</style>\n",
       "<table border=\"1\" class=\"dataframe\">\n",
       "  <thead>\n",
       "    <tr style=\"text-align: right;\">\n",
       "      <th></th>\n",
       "      <th>Response</th>\n",
       "      <th>counts</th>\n",
       "      <th>percentage</th>\n",
       "    </tr>\n",
       "  </thead>\n",
       "  <tbody>\n",
       "    <tr>\n",
       "      <th>0</th>\n",
       "      <td>0</td>\n",
       "      <td>100195</td>\n",
       "      <td>87.6</td>\n",
       "    </tr>\n",
       "    <tr>\n",
       "      <th>1</th>\n",
       "      <td>1</td>\n",
       "      <td>14138</td>\n",
       "      <td>12.4</td>\n",
       "    </tr>\n",
       "  </tbody>\n",
       "</table>\n",
       "</div>"
      ],
      "text/plain": [
       "   Response  counts  percentage\n",
       "0         0  100195        87.6\n",
       "1         1   14138        12.4"
      ]
     },
     "execution_count": 11,
     "metadata": {},
     "output_type": "execute_result"
    }
   ],
   "source": [
    "show_value_counts(main_df, 'Response')"
   ]
  },
  {
   "cell_type": "code",
   "execution_count": 12,
   "metadata": {},
   "outputs": [
    {
     "data": {
      "text/plain": [
       "<Axes: xlabel='Response', ylabel='count'>"
      ]
     },
     "execution_count": 12,
     "metadata": {},
     "output_type": "execute_result"
    },
    {
     "data": {
      "image/png": "[encoded data removed]",
      "text/plain": [
       "<Figure size 700x500 with 1 Axes>"
      ]
     },
     "metadata": {},
     "output_type": "display_data"
    }
   ],
   "source": [
    "fig, ax = plt.subplots(1,1, figsize=(7,5))\n",
    "sns.countplot(x=main_df[\"Response\"], order=[0,1], ax=ax)"
   ]
  },
  {
   "cell_type": "markdown",
   "metadata": {},
   "source": [
    "### Predictor Variables"
   ]
  },
  {
   "cell_type": "code",
   "execution_count": null,
   "metadata": {},
   "outputs": [
    {
     "data": {
      "text/plain": [
       "id                        int64\n",
       "Gender                   object\n",
       "Age                       int64\n",
       "Driving_License           int64\n",
       "Region_Code             float64\n",
       "Previously_Insured        int64\n",
       "Vehicle_Age              object\n",
       "Vehicle_Damage           object\n",
       "Annual_Premium          float64\n",
       "Policy_Sales_Channel    float64\n",
       "Vintage                   int64\n",
       "Response                  int64\n",
       "dtype: object"
      ]
     },
     "execution_count": 11,
     "metadata": {},
     "output_type": "execute_result"
    }
   ],
   "source": [
    "main_df.dtypes"
   ]
  },
  {
   "cell_type": "code",
   "execution_count": 13,
   "metadata": {},
   "outputs": [
    {
     "data": {
      "text/plain": [
       "['Gender', 'Vehicle_Age', 'Vehicle_Damage']"
      ]
     },
     "execution_count": 13,
     "metadata": {},
     "output_type": "execute_result"
    }
   ],
   "source": [
    "# Identify columns which are not numerical:\n",
    "categorical = [col for col in main_df.columns if main_df[col].dtype =='object']\n",
    "categorical"
   ]
  },
  {
   "cell_type": "code",
   "execution_count": 14,
   "metadata": {},
   "outputs": [
    {
     "data": {
      "text/html": [
       "<div>\n",
       "<style scoped>\n",
       "    .dataframe tbody tr th:only-of-type {\n",
       "        vertical-align: middle;\n",
       "    }\n",
       "\n",
       "    .dataframe tbody tr th {\n",
       "        vertical-align: top;\n",
       "    }\n",
       "\n",
       "    .dataframe thead th {\n",
       "        text-align: right;\n",
       "    }\n",
       "</style>\n",
       "<table border=\"1\" class=\"dataframe\">\n",
       "  <thead>\n",
       "    <tr style=\"text-align: right;\">\n",
       "      <th></th>\n",
       "      <th>counts</th>\n",
       "      <th>percentage</th>\n",
       "    </tr>\n",
       "  </thead>\n",
       "  <tbody>\n",
       "    <tr>\n",
       "      <th>id</th>\n",
       "      <td>0</td>\n",
       "      <td>0.0</td>\n",
       "    </tr>\n",
       "    <tr>\n",
       "      <th>Gender</th>\n",
       "      <td>0</td>\n",
       "      <td>0.0</td>\n",
       "    </tr>\n",
       "    <tr>\n",
       "      <th>Age</th>\n",
       "      <td>0</td>\n",
       "      <td>0.0</td>\n",
       "    </tr>\n",
       "    <tr>\n",
       "      <th>Driving_License</th>\n",
       "      <td>0</td>\n",
       "      <td>0.0</td>\n",
       "    </tr>\n",
       "    <tr>\n",
       "      <th>Region_Code</th>\n",
       "      <td>0</td>\n",
       "      <td>0.0</td>\n",
       "    </tr>\n",
       "    <tr>\n",
       "      <th>Previously_Insured</th>\n",
       "      <td>0</td>\n",
       "      <td>0.0</td>\n",
       "    </tr>\n",
       "    <tr>\n",
       "      <th>Vehicle_Age</th>\n",
       "      <td>0</td>\n",
       "      <td>0.0</td>\n",
       "    </tr>\n",
       "    <tr>\n",
       "      <th>Vehicle_Damage</th>\n",
       "      <td>0</td>\n",
       "      <td>0.0</td>\n",
       "    </tr>\n",
       "    <tr>\n",
       "      <th>Annual_Premium</th>\n",
       "      <td>0</td>\n",
       "      <td>0.0</td>\n",
       "    </tr>\n",
       "    <tr>\n",
       "      <th>Policy_Sales_Channel</th>\n",
       "      <td>0</td>\n",
       "      <td>0.0</td>\n",
       "    </tr>\n",
       "    <tr>\n",
       "      <th>Vintage</th>\n",
       "      <td>0</td>\n",
       "      <td>0.0</td>\n",
       "    </tr>\n",
       "    <tr>\n",
       "      <th>Response</th>\n",
       "      <td>0</td>\n",
       "      <td>0.0</td>\n",
       "    </tr>\n",
       "  </tbody>\n",
       "</table>\n",
       "</div>"
      ],
      "text/plain": [
       "                      counts  percentage\n",
       "id                         0         0.0\n",
       "Gender                     0         0.0\n",
       "Age                        0         0.0\n",
       "Driving_License            0         0.0\n",
       "Region_Code                0         0.0\n",
       "Previously_Insured         0         0.0\n",
       "Vehicle_Age                0         0.0\n",
       "Vehicle_Damage             0         0.0\n",
       "Annual_Premium             0         0.0\n",
       "Policy_Sales_Channel       0         0.0\n",
       "Vintage                    0         0.0\n",
       "Response                   0         0.0"
      ]
     },
     "execution_count": 14,
     "metadata": {},
     "output_type": "execute_result"
    }
   ],
   "source": [
    "show_nan_counts(main_df)"
   ]
  },
  {
   "cell_type": "markdown",
   "metadata": {},
   "source": [
    "___\n",
    "#### Correlation Plot for Basic Columns"
   ]
  },
  {
   "cell_type": "code",
   "execution_count": null,
   "metadata": {},
   "outputs": [
    {
     "data": {
      "image/png": "[encoded data removed]",
      "text/plain": [
       "<Figure size 1200x800 with 2 Axes>"
      ]
     },
     "metadata": {},
     "output_type": "display_data"
    }
   ],
   "source": [
    "show_heatmap(main_df)"
   ]
  },
  {
   "cell_type": "code",
   "execution_count": 15,
   "metadata": {},
   "outputs": [
    {
     "data": {
      "text/plain": [
       "<Axes: xlabel='Age', ylabel='Density'>"
      ]
     },
     "execution_count": 15,
     "metadata": {},
     "output_type": "execute_result"
    },
    {
     "data": {
      "image/png": "[encoded data removed]",
      "text/plain": [
       "<Figure size 640x480 with 1 Axes>"
      ]
     },
     "metadata": {},
     "output_type": "display_data"
    }
   ],
   "source": [
    "sns.distplot(main_df['Age'])"
   ]
  },
  {
   "cell_type": "code",
   "execution_count": 16,
   "metadata": {},
   "outputs": [
    {
     "data": {
      "text/plain": [
       "<Axes: xlabel='Vintage', ylabel='Density'>"
      ]
     },
     "execution_count": 16,
     "metadata": {},
     "output_type": "execute_result"
    },
    {
     "data": {
      "image/png": "[encoded data removed]",
      "text/plain": [
       "<Figure size 640x480 with 1 Axes>"
      ]
     },
     "metadata": {},
     "output_type": "display_data"
    }
   ],
   "source": [
    "sns.distplot(main_df['Vintage'])"
   ]
  },
  {
   "cell_type": "code",
   "execution_count": 17,
   "metadata": {},
   "outputs": [
    {
     "data": {
      "text/plain": [
       "<Axes: xlabel='Annual_Premium', ylabel='Density'>"
      ]
     },
     "execution_count": 17,
     "metadata": {},
     "output_type": "execute_result"
    },
    {
     "data": {
      "image/png": "[encoded data removed]",
      "text/plain": [
       "<Figure size 640x480 with 1 Axes>"
      ]
     },
     "metadata": {},
     "output_type": "display_data"
    }
   ],
   "source": [
    "sns.distplot(main_df['Annual_Premium'])"
   ]
  },
  {
   "cell_type": "markdown",
   "metadata": {},
   "source": [
    "___\n",
    "<a name=\"pre-processing\"></a>\n",
    "## (4) Data Pre-Processing and Transformation"
   ]
  },
  {
   "cell_type": "code",
   "execution_count": 18,
   "metadata": {},
   "outputs": [
    {
     "data": {
      "text/html": [
       "<div>\n",
       "<style scoped>\n",
       "    .dataframe tbody tr th:only-of-type {\n",
       "        vertical-align: middle;\n",
       "    }\n",
       "\n",
       "    .dataframe tbody tr th {\n",
       "        vertical-align: top;\n",
       "    }\n",
       "\n",
       "    .dataframe thead th {\n",
       "        text-align: right;\n",
       "    }\n",
       "</style>\n",
       "<table border=\"1\" class=\"dataframe\">\n",
       "  <thead>\n",
       "    <tr style=\"text-align: right;\">\n",
       "      <th></th>\n",
       "      <th>id</th>\n",
       "      <th>Gender</th>\n",
       "      <th>Age</th>\n",
       "      <th>Driving_License</th>\n",
       "      <th>Region_Code</th>\n",
       "      <th>Previously_Insured</th>\n",
       "      <th>Vehicle_Age</th>\n",
       "      <th>Vehicle_Damage</th>\n",
       "      <th>Annual_Premium</th>\n",
       "      <th>Policy_Sales_Channel</th>\n",
       "      <th>Vintage</th>\n",
       "      <th>Response</th>\n",
       "    </tr>\n",
       "  </thead>\n",
       "  <tbody>\n",
       "    <tr>\n",
       "      <th>0</th>\n",
       "      <td>200223</td>\n",
       "      <td>Female</td>\n",
       "      <td>21</td>\n",
       "      <td>1</td>\n",
       "      <td>3.0</td>\n",
       "      <td>1</td>\n",
       "      <td>&lt; 1 Year</td>\n",
       "      <td>No</td>\n",
       "      <td>20408.0</td>\n",
       "      <td>160.0</td>\n",
       "      <td>72</td>\n",
       "      <td>0</td>\n",
       "    </tr>\n",
       "    <tr>\n",
       "      <th>1</th>\n",
       "      <td>49767</td>\n",
       "      <td>Male</td>\n",
       "      <td>55</td>\n",
       "      <td>1</td>\n",
       "      <td>15.0</td>\n",
       "      <td>0</td>\n",
       "      <td>1-2 Year</td>\n",
       "      <td>Yes</td>\n",
       "      <td>37498.0</td>\n",
       "      <td>26.0</td>\n",
       "      <td>102</td>\n",
       "      <td>0</td>\n",
       "    </tr>\n",
       "    <tr>\n",
       "      <th>2</th>\n",
       "      <td>172202</td>\n",
       "      <td>Female</td>\n",
       "      <td>41</td>\n",
       "      <td>1</td>\n",
       "      <td>3.0</td>\n",
       "      <td>0</td>\n",
       "      <td>1-2 Year</td>\n",
       "      <td>Yes</td>\n",
       "      <td>2630.0</td>\n",
       "      <td>26.0</td>\n",
       "      <td>90</td>\n",
       "      <td>0</td>\n",
       "    </tr>\n",
       "    <tr>\n",
       "      <th>3</th>\n",
       "      <td>160714</td>\n",
       "      <td>Female</td>\n",
       "      <td>26</td>\n",
       "      <td>1</td>\n",
       "      <td>11.0</td>\n",
       "      <td>0</td>\n",
       "      <td>&lt; 1 Year</td>\n",
       "      <td>No</td>\n",
       "      <td>2630.0</td>\n",
       "      <td>151.0</td>\n",
       "      <td>268</td>\n",
       "      <td>0</td>\n",
       "    </tr>\n",
       "    <tr>\n",
       "      <th>4</th>\n",
       "      <td>53273</td>\n",
       "      <td>Male</td>\n",
       "      <td>51</td>\n",
       "      <td>1</td>\n",
       "      <td>40.0</td>\n",
       "      <td>0</td>\n",
       "      <td>1-2 Year</td>\n",
       "      <td>Yes</td>\n",
       "      <td>34006.0</td>\n",
       "      <td>124.0</td>\n",
       "      <td>265</td>\n",
       "      <td>0</td>\n",
       "    </tr>\n",
       "  </tbody>\n",
       "</table>\n",
       "</div>"
      ],
      "text/plain": [
       "       id  Gender  Age  Driving_License  Region_Code  Previously_Insured  \\\n",
       "0  200223  Female   21                1          3.0                   1   \n",
       "1   49767    Male   55                1         15.0                   0   \n",
       "2  172202  Female   41                1          3.0                   0   \n",
       "3  160714  Female   26                1         11.0                   0   \n",
       "4   53273    Male   51                1         40.0                   0   \n",
       "\n",
       "  Vehicle_Age Vehicle_Damage  Annual_Premium  Policy_Sales_Channel  Vintage  \\\n",
       "0    < 1 Year             No         20408.0                 160.0       72   \n",
       "1    1-2 Year            Yes         37498.0                  26.0      102   \n",
       "2    1-2 Year            Yes          2630.0                  26.0       90   \n",
       "3    < 1 Year             No          2630.0                 151.0      268   \n",
       "4    1-2 Year            Yes         34006.0                 124.0      265   \n",
       "\n",
       "   Response  \n",
       "0         0  \n",
       "1         0  \n",
       "2         0  \n",
       "3         0  \n",
       "4         0  "
      ]
     },
     "execution_count": 18,
     "metadata": {},
     "output_type": "execute_result"
    }
   ],
   "source": [
    "main_df.head()"
   ]
  },
  {
   "cell_type": "code",
   "execution_count": 19,
   "metadata": {},
   "outputs": [],
   "source": [
    "def preprocess_data(df):\n",
    "    # Label encode gender\n",
    "    df['Gender'] = df['Gender'].map({'Male':0, 'Female':1}).astype(int)\n",
    "    \n",
    "    # Convert Region_code and Policy_Sales_Channel into categoricals (Object)\n",
    "    df['Region_Code'] = df['Region_Code'].apply(lambda x: str(int(x)))\n",
    "    df['Policy_Sales_Channel'] = df['Policy_Sales_Channel'].apply(lambda x: str(int(x)))\n",
    "    \n",
    "    # One hot encoding of categorical variables (with drop first)\n",
    "    df = pd.get_dummies(df, drop_first=True)\n",
    "    \n",
    "    # Rename vehicle columns\n",
    "    df = df.rename(columns={\"Vehicle_Age_< 1 Year\": \"Vehicle_Age_lt_1Y\", \n",
    "                            \"Vehicle_Age_> 2 Years\": \"Vehicle_Age_gt_2Y\"})\n",
    "    df['Vehicle_Age_lt_1Y'] = df['Vehicle_Age_lt_1Y'].astype('int')\n",
    "    df['Vehicle_Age_gt_2Y'] = df['Vehicle_Age_gt_2Y'].astype('int')\n",
    "    \n",
    "    # Drop ID column\n",
    "    df = df.drop('id',axis=1)\n",
    "    \n",
    "    return df"
   ]
  },
  {
   "cell_type": "code",
   "execution_count": 20,
   "metadata": {
    "scrolled": true
   },
   "outputs": [],
   "source": [
    "main_df = preprocess_data(main_df)"
   ]
  },
  {
   "cell_type": "markdown",
   "metadata": {},
   "source": [
    "### Train Test Split"
   ]
  },
  {
   "cell_type": "code",
   "execution_count": 21,
   "metadata": {},
   "outputs": [],
   "source": [
    "# Shuffle your dataset \n",
    "shuffle_df = main_df.sample(frac=1, random_state=1)\n",
    "\n",
    "# Define a size for your train set (80:20)\n",
    "train_size = int(0.8 * len(main_df))\n",
    "\n",
    "# Split your dataset \n",
    "train_df = shuffle_df[:train_size]\n",
    "test_df = shuffle_df[train_size:]"
   ]
  },
  {
   "cell_type": "markdown",
   "metadata": {},
   "source": [
    "### Scale Data"
   ]
  },
  {
   "cell_type": "code",
   "execution_count": 22,
   "metadata": {},
   "outputs": [],
   "source": [
    "def scale_data(df, train):\n",
    "    # Performing normalization\n",
    "    numerical_features = ['Age', 'Vintage', 'Annual_Premium']\n",
    "    \n",
    "    if train:\n",
    "        mm = MinMaxScaler() \n",
    "        df[numerical_features] = mm.fit_transform(df[numerical_features])\n",
    "        pickle.dump(mm, open(\"./data/minmax_scaler.pkl\", 'wb'))\n",
    "    else:\n",
    "        mm = pickle.load(open(\"./data/minmax_scaler.pkl\", 'rb'))\n",
    "        df[numerical_features] = mm.transform(df[numerical_features])\n",
    "        \n",
    "    return df"
   ]
  },
  {
   "cell_type": "code",
   "execution_count": 23,
   "metadata": {},
   "outputs": [],
   "source": [
    "train_df = scale_data(train_df, train=True)\n",
    "test_df = scale_data(test_df, train=False)"
   ]
  },
  {
   "cell_type": "code",
   "execution_count": 24,
   "metadata": {},
   "outputs": [],
   "source": [
    "assert len(train_df.columns) == len(test_df.columns)"
   ]
  },
  {
   "cell_type": "code",
   "execution_count": 25,
   "metadata": {},
   "outputs": [
    {
     "data": {
      "text/html": [
       "<div>\n",
       "<style scoped>\n",
       "    .dataframe tbody tr th:only-of-type {\n",
       "        vertical-align: middle;\n",
       "    }\n",
       "\n",
       "    .dataframe tbody tr th {\n",
       "        vertical-align: top;\n",
       "    }\n",
       "\n",
       "    .dataframe thead th {\n",
       "        text-align: right;\n",
       "    }\n",
       "</style>\n",
       "<table border=\"1\" class=\"dataframe\">\n",
       "  <thead>\n",
       "    <tr style=\"text-align: right;\">\n",
       "      <th></th>\n",
       "      <th>Gender</th>\n",
       "      <th>Age</th>\n",
       "      <th>Driving_License</th>\n",
       "      <th>Previously_Insured</th>\n",
       "      <th>Annual_Premium</th>\n",
       "      <th>Vintage</th>\n",
       "      <th>Response</th>\n",
       "      <th>Region_Code_1</th>\n",
       "      <th>Region_Code_10</th>\n",
       "      <th>Region_Code_11</th>\n",
       "      <th>...</th>\n",
       "      <th>Policy_Sales_Channel_90</th>\n",
       "      <th>Policy_Sales_Channel_91</th>\n",
       "      <th>Policy_Sales_Channel_92</th>\n",
       "      <th>Policy_Sales_Channel_93</th>\n",
       "      <th>Policy_Sales_Channel_94</th>\n",
       "      <th>Policy_Sales_Channel_95</th>\n",
       "      <th>Policy_Sales_Channel_96</th>\n",
       "      <th>Policy_Sales_Channel_97</th>\n",
       "      <th>Policy_Sales_Channel_98</th>\n",
       "      <th>Policy_Sales_Channel_99</th>\n",
       "    </tr>\n",
       "  </thead>\n",
       "  <tbody>\n",
       "    <tr>\n",
       "      <th>83163</th>\n",
       "      <td>0</td>\n",
       "      <td>0.000000</td>\n",
       "      <td>1</td>\n",
       "      <td>0</td>\n",
       "      <td>0.043928</td>\n",
       "      <td>0.958478</td>\n",
       "      <td>0</td>\n",
       "      <td>0</td>\n",
       "      <td>0</td>\n",
       "      <td>0</td>\n",
       "      <td>...</td>\n",
       "      <td>0</td>\n",
       "      <td>0</td>\n",
       "      <td>0</td>\n",
       "      <td>0</td>\n",
       "      <td>0</td>\n",
       "      <td>0</td>\n",
       "      <td>0</td>\n",
       "      <td>0</td>\n",
       "      <td>0</td>\n",
       "      <td>0</td>\n",
       "    </tr>\n",
       "    <tr>\n",
       "      <th>36490</th>\n",
       "      <td>0</td>\n",
       "      <td>0.415385</td>\n",
       "      <td>1</td>\n",
       "      <td>1</td>\n",
       "      <td>0.068139</td>\n",
       "      <td>0.820069</td>\n",
       "      <td>0</td>\n",
       "      <td>0</td>\n",
       "      <td>0</td>\n",
       "      <td>0</td>\n",
       "      <td>...</td>\n",
       "      <td>0</td>\n",
       "      <td>0</td>\n",
       "      <td>0</td>\n",
       "      <td>0</td>\n",
       "      <td>0</td>\n",
       "      <td>0</td>\n",
       "      <td>0</td>\n",
       "      <td>0</td>\n",
       "      <td>0</td>\n",
       "      <td>0</td>\n",
       "    </tr>\n",
       "    <tr>\n",
       "      <th>21633</th>\n",
       "      <td>0</td>\n",
       "      <td>0.415385</td>\n",
       "      <td>1</td>\n",
       "      <td>0</td>\n",
       "      <td>0.062545</td>\n",
       "      <td>0.854671</td>\n",
       "      <td>0</td>\n",
       "      <td>0</td>\n",
       "      <td>0</td>\n",
       "      <td>0</td>\n",
       "      <td>...</td>\n",
       "      <td>0</td>\n",
       "      <td>0</td>\n",
       "      <td>0</td>\n",
       "      <td>0</td>\n",
       "      <td>0</td>\n",
       "      <td>0</td>\n",
       "      <td>0</td>\n",
       "      <td>0</td>\n",
       "      <td>0</td>\n",
       "      <td>0</td>\n",
       "    </tr>\n",
       "    <tr>\n",
       "      <th>62657</th>\n",
       "      <td>0</td>\n",
       "      <td>0.030769</td>\n",
       "      <td>1</td>\n",
       "      <td>0</td>\n",
       "      <td>0.000000</td>\n",
       "      <td>0.979239</td>\n",
       "      <td>0</td>\n",
       "      <td>0</td>\n",
       "      <td>0</td>\n",
       "      <td>0</td>\n",
       "      <td>...</td>\n",
       "      <td>0</td>\n",
       "      <td>0</td>\n",
       "      <td>0</td>\n",
       "      <td>0</td>\n",
       "      <td>0</td>\n",
       "      <td>0</td>\n",
       "      <td>0</td>\n",
       "      <td>0</td>\n",
       "      <td>0</td>\n",
       "      <td>0</td>\n",
       "    </tr>\n",
       "    <tr>\n",
       "      <th>98694</th>\n",
       "      <td>0</td>\n",
       "      <td>0.430769</td>\n",
       "      <td>1</td>\n",
       "      <td>0</td>\n",
       "      <td>0.102691</td>\n",
       "      <td>0.532872</td>\n",
       "      <td>1</td>\n",
       "      <td>0</td>\n",
       "      <td>0</td>\n",
       "      <td>0</td>\n",
       "      <td>...</td>\n",
       "      <td>0</td>\n",
       "      <td>0</td>\n",
       "      <td>0</td>\n",
       "      <td>0</td>\n",
       "      <td>0</td>\n",
       "      <td>0</td>\n",
       "      <td>0</td>\n",
       "      <td>0</td>\n",
       "      <td>0</td>\n",
       "      <td>0</td>\n",
       "    </tr>\n",
       "  </tbody>\n",
       "</table>\n",
       "<p>5 rows × 208 columns</p>\n",
       "</div>"
      ],
      "text/plain": [
       "       Gender       Age  Driving_License  Previously_Insured  Annual_Premium  \\\n",
       "83163       0  0.000000                1                   0        0.043928   \n",
       "36490       0  0.415385                1                   1        0.068139   \n",
       "21633       0  0.415385                1                   0        0.062545   \n",
       "62657       0  0.030769                1                   0        0.000000   \n",
       "98694       0  0.430769                1                   0        0.102691   \n",
       "\n",
       "        Vintage  Response  Region_Code_1  Region_Code_10  Region_Code_11  ...  \\\n",
       "83163  0.958478         0              0               0               0  ...   \n",
       "36490  0.820069         0              0               0               0  ...   \n",
       "21633  0.854671         0              0               0               0  ...   \n",
       "62657  0.979239         0              0               0               0  ...   \n",
       "98694  0.532872         1              0               0               0  ...   \n",
       "\n",
       "       Policy_Sales_Channel_90  Policy_Sales_Channel_91  \\\n",
       "83163                        0                        0   \n",
       "36490                        0                        0   \n",
       "21633                        0                        0   \n",
       "62657                        0                        0   \n",
       "98694                        0                        0   \n",
       "\n",
       "       Policy_Sales_Channel_92  Policy_Sales_Channel_93  \\\n",
       "83163                        0                        0   \n",
       "36490                        0                        0   \n",
       "21633                        0                        0   \n",
       "62657                        0                        0   \n",
       "98694                        0                        0   \n",
       "\n",
       "       Policy_Sales_Channel_94  Policy_Sales_Channel_95  \\\n",
       "83163                        0                        0   \n",
       "36490                        0                        0   \n",
       "21633                        0                        0   \n",
       "62657                        0                        0   \n",
       "98694                        0                        0   \n",
       "\n",
       "       Policy_Sales_Channel_96  Policy_Sales_Channel_97  \\\n",
       "83163                        0                        0   \n",
       "36490                        0                        0   \n",
       "21633                        0                        0   \n",
       "62657                        0                        0   \n",
       "98694                        0                        0   \n",
       "\n",
       "       Policy_Sales_Channel_98  Policy_Sales_Channel_99  \n",
       "83163                        0                        0  \n",
       "36490                        0                        0  \n",
       "21633                        0                        0  \n",
       "62657                        0                        0  \n",
       "98694                        0                        0  \n",
       "\n",
       "[5 rows x 208 columns]"
      ]
     },
     "execution_count": 25,
     "metadata": {},
     "output_type": "execute_result"
    }
   ],
   "source": [
    "train_df.head()"
   ]
  },
  {
   "cell_type": "markdown",
   "metadata": {},
   "source": [
    "___\n",
    "### Export processed datasets"
   ]
  },
  {
   "cell_type": "code",
   "execution_count": 27,
   "metadata": {},
   "outputs": [],
   "source": [
    "train_df.to_csv('data/processed/train.csv', index=False)\n",
    "test_df.to_csv('data/processed/test.csv', index=False)"
   ]
  }
 ],
 "metadata": {
  "kernelspec": {
   "display_name": "env311",
   "language": "python",
   "name": "python3"
  },
  "language_info": {
   "codemirror_mode": {
    "name": "ipython",
    "version": 3
   },
   "file_extension": ".py",
   "mimetype": "text/x-python",
   "name": "python",
   "nbconvert_exporter": "python",
   "pygments_lexer": "ipython3",
   "version": "3.11.0"
  },
  "vscode": {
   "interpreter": {
    "hash": "fecfb9b2b6c378f848f6245ebc99eeea625117fd7c00d4f4be497952a18b99e6"
   }
  }
 },
 "nbformat": 4,
 "nbformat_minor": 4
}
